{
 "cells": [
  {
   "cell_type": "code",
   "execution_count": 4,
   "metadata": {},
   "outputs": [],
   "source": [
    "rank_test_score = [10,  5,  3, 17,  9,  7, 25, 18, 16, 11,  6,  1, 18, 13,  8, 26, 21, 18, 14,  4,  2, 21, 15, 12, 27, 24, 21]\n",
    "params = [\n",
    "    {\"batch_size\": 16, \"lr\": 0.001, \"max_epochs\": 10},\n",
    "    {\"batch_size\": 16, \"lr\": 0.001, \"max_epochs\": 50},\n",
    "    {\"batch_size\": 16, \"lr\": 0.001, \"max_epochs\": 100},\n",
    "    {\"batch_size\": 16, \"lr\": 0.0001, \"max_epochs\": 10},\n",
    "    {\"batch_size\": 16, \"lr\": 0.0001, \"max_epochs\": 50},\n",
    "    {\"batch_size\": 16, \"lr\": 0.0001, \"max_epochs\": 100},\n",
    "    {\"batch_size\": 16, \"lr\": 1e-05, \"max_epochs\": 10},\n",
    "    {\"batch_size\": 16, \"lr\": 1e-05, \"max_epochs\": 50},\n",
    "    {\"batch_size\": 16, \"lr\": 1e-05, \"max_epochs\": 100},\n",
    "    {\"batch_size\": 32, \"lr\": 0.001, \"max_epochs\": 10},\n",
    "    {\"batch_size\": 32, \"lr\": 0.001, \"max_epochs\": 50},\n",
    "    {\"batch_size\": 32, \"lr\": 0.001, \"max_epochs\": 100},\n",
    "    {\"batch_size\": 32, \"lr\": 0.0001, \"max_epochs\": 10},\n",
    "    {\"batch_size\": 32, \"lr\": 0.0001, \"max_epochs\": 50},\n",
    "    {\"batch_size\": 32, \"lr\": 0.0001, \"max_epochs\": 100},\n",
    "    {\"batch_size\": 32, \"lr\": 1e-05, \"max_epochs\": 10},\n",
    "    {\"batch_size\": 32, \"lr\": 1e-05, \"max_epochs\": 50},\n",
    "    {\"batch_size\": 32, \"lr\": 1e-05, \"max_epochs\": 100},\n",
    "    {\"batch_size\": 64, \"lr\": 0.001, \"max_epochs\": 10},\n",
    "    {\"batch_size\": 64, \"lr\": 0.001, \"max_epochs\": 50},\n",
    "    {\"batch_size\": 64, \"lr\": 0.001, \"max_epochs\": 100},\n",
    "    {\"batch_size\": 64, \"lr\": 0.0001, \"max_epochs\": 10},\n",
    "    {\"batch_size\": 64, \"lr\": 0.0001, \"max_epochs\": 50},\n",
    "    {\"batch_size\": 64, \"lr\": 0.0001, \"max_epochs\": 100},\n",
    "    {\"batch_size\": 64, \"lr\": 1e-05, \"max_epochs\": 10},\n",
    "    {\"batch_size\": 64, \"lr\": 1e-05, \"max_epochs\": 50},\n",
    "    {\"batch_size\": 64, \"lr\": 1e-05, \"max_epochs\": 100},\n",
    "]\n",
    "std_test_score = [2806.42889848, 3752.27222986, 2940.33809095, 2416.90186959,\n",
    "       2983.55564303, 2676.78206485, 2416.90531808, 2416.90685751,\n",
    "       2416.90415811, 3278.53299389, 2216.18461874, 1869.00182619,\n",
    "       2416.90685751, 2416.91582952, 2969.01005843, 2416.90668791,\n",
    "       2416.90450573, 2416.90685751, 2416.91896067, 2775.1405256 ,\n",
    "       2509.32207256, 2416.90450573, 2416.9054161 , 2416.91614888,\n",
    "       2416.9047278 , 2416.90304775, 2416.90450573]"
   ]
  },
  {
   "cell_type": "code",
   "execution_count": 10,
   "metadata": {},
   "outputs": [
    {
     "ename": "ValueError",
     "evalue": "shape mismatch: objects cannot be broadcast to a single shape.  Mismatch is between arg 0 with shape (26,) and arg 1 with shape (27,).",
     "output_type": "error",
     "traceback": [
      "\u001b[1;31m---------------------------------------------------------------------------\u001b[0m",
      "\u001b[1;31mValueError\u001b[0m                                Traceback (most recent call last)",
      "\u001b[1;32mc:\\Users\\jches\\Documents\\Programming\\MSc Computing\\intro2ml_cw2_12\\results.ipynb Cell 2'\u001b[0m in \u001b[0;36m<module>\u001b[1;34m\u001b[0m\n\u001b[0;32m      <a href='vscode-notebook-cell:/c%3A/Users/jches/Documents/Programming/MSc%20Computing/intro2ml_cw2_12/results.ipynb#ch0000001?line=1'>2</a>\u001b[0m fig \u001b[39m=\u001b[39m plt\u001b[39m.\u001b[39mfigure()\n\u001b[0;32m      <a href='vscode-notebook-cell:/c%3A/Users/jches/Documents/Programming/MSc%20Computing/intro2ml_cw2_12/results.ipynb#ch0000001?line=2'>3</a>\u001b[0m ax \u001b[39m=\u001b[39m fig\u001b[39m.\u001b[39madd_axes([\u001b[39m0\u001b[39m,\u001b[39m0\u001b[39m,\u001b[39m1\u001b[39m,\u001b[39m1\u001b[39m])\n\u001b[1;32m----> <a href='vscode-notebook-cell:/c%3A/Users/jches/Documents/Programming/MSc%20Computing/intro2ml_cw2_12/results.ipynb#ch0000001?line=3'>4</a>\u001b[0m ax\u001b[39m.\u001b[39;49mbar(\u001b[39mrange\u001b[39;49m(\u001b[39m1\u001b[39;49m,\u001b[39m27\u001b[39;49m), std_test_score)\n\u001b[0;32m      <a href='vscode-notebook-cell:/c%3A/Users/jches/Documents/Programming/MSc%20Computing/intro2ml_cw2_12/results.ipynb#ch0000001?line=4'>5</a>\u001b[0m plt\u001b[39m.\u001b[39mshow()\n",
      "File \u001b[1;32mc:\\Users\\jches\\Documents\\Programming\\MSc Computing\\intro2ml_cw2_12\\.venv\\lib\\site-packages\\matplotlib\\__init__.py:1412\u001b[0m, in \u001b[0;36m_preprocess_data.<locals>.inner\u001b[1;34m(ax, data, *args, **kwargs)\u001b[0m\n\u001b[0;32m   <a href='file:///c%3A/Users/jches/Documents/Programming/MSc%20Computing/intro2ml_cw2_12/.venv/lib/site-packages/matplotlib/__init__.py?line=1408'>1409</a>\u001b[0m \u001b[39m@functools\u001b[39m\u001b[39m.\u001b[39mwraps(func)\n\u001b[0;32m   <a href='file:///c%3A/Users/jches/Documents/Programming/MSc%20Computing/intro2ml_cw2_12/.venv/lib/site-packages/matplotlib/__init__.py?line=1409'>1410</a>\u001b[0m \u001b[39mdef\u001b[39;00m \u001b[39minner\u001b[39m(ax, \u001b[39m*\u001b[39margs, data\u001b[39m=\u001b[39m\u001b[39mNone\u001b[39;00m, \u001b[39m*\u001b[39m\u001b[39m*\u001b[39mkwargs):\n\u001b[0;32m   <a href='file:///c%3A/Users/jches/Documents/Programming/MSc%20Computing/intro2ml_cw2_12/.venv/lib/site-packages/matplotlib/__init__.py?line=1410'>1411</a>\u001b[0m     \u001b[39mif\u001b[39;00m data \u001b[39mis\u001b[39;00m \u001b[39mNone\u001b[39;00m:\n\u001b[1;32m-> <a href='file:///c%3A/Users/jches/Documents/Programming/MSc%20Computing/intro2ml_cw2_12/.venv/lib/site-packages/matplotlib/__init__.py?line=1411'>1412</a>\u001b[0m         \u001b[39mreturn\u001b[39;00m func(ax, \u001b[39m*\u001b[39;49m\u001b[39mmap\u001b[39;49m(sanitize_sequence, args), \u001b[39m*\u001b[39;49m\u001b[39m*\u001b[39;49mkwargs)\n\u001b[0;32m   <a href='file:///c%3A/Users/jches/Documents/Programming/MSc%20Computing/intro2ml_cw2_12/.venv/lib/site-packages/matplotlib/__init__.py?line=1413'>1414</a>\u001b[0m     bound \u001b[39m=\u001b[39m new_sig\u001b[39m.\u001b[39mbind(ax, \u001b[39m*\u001b[39margs, \u001b[39m*\u001b[39m\u001b[39m*\u001b[39mkwargs)\n\u001b[0;32m   <a href='file:///c%3A/Users/jches/Documents/Programming/MSc%20Computing/intro2ml_cw2_12/.venv/lib/site-packages/matplotlib/__init__.py?line=1414'>1415</a>\u001b[0m     auto_label \u001b[39m=\u001b[39m (bound\u001b[39m.\u001b[39marguments\u001b[39m.\u001b[39mget(label_namer)\n\u001b[0;32m   <a href='file:///c%3A/Users/jches/Documents/Programming/MSc%20Computing/intro2ml_cw2_12/.venv/lib/site-packages/matplotlib/__init__.py?line=1415'>1416</a>\u001b[0m                   \u001b[39mor\u001b[39;00m bound\u001b[39m.\u001b[39mkwargs\u001b[39m.\u001b[39mget(label_namer))\n",
      "File \u001b[1;32mc:\\Users\\jches\\Documents\\Programming\\MSc Computing\\intro2ml_cw2_12\\.venv\\lib\\site-packages\\matplotlib\\axes\\_axes.py:2342\u001b[0m, in \u001b[0;36mAxes.bar\u001b[1;34m(self, x, height, width, bottom, align, **kwargs)\u001b[0m\n\u001b[0;32m   <a href='file:///c%3A/Users/jches/Documents/Programming/MSc%20Computing/intro2ml_cw2_12/.venv/lib/site-packages/matplotlib/axes/_axes.py?line=2338'>2339</a>\u001b[0m     \u001b[39mif\u001b[39;00m yerr \u001b[39mis\u001b[39;00m \u001b[39mnot\u001b[39;00m \u001b[39mNone\u001b[39;00m:\n\u001b[0;32m   <a href='file:///c%3A/Users/jches/Documents/Programming/MSc%20Computing/intro2ml_cw2_12/.venv/lib/site-packages/matplotlib/axes/_axes.py?line=2339'>2340</a>\u001b[0m         yerr \u001b[39m=\u001b[39m \u001b[39mself\u001b[39m\u001b[39m.\u001b[39m_convert_dx(yerr, y0, y, \u001b[39mself\u001b[39m\u001b[39m.\u001b[39mconvert_yunits)\n\u001b[1;32m-> <a href='file:///c%3A/Users/jches/Documents/Programming/MSc%20Computing/intro2ml_cw2_12/.venv/lib/site-packages/matplotlib/axes/_axes.py?line=2341'>2342</a>\u001b[0m x, height, width, y, linewidth, hatch \u001b[39m=\u001b[39m np\u001b[39m.\u001b[39;49mbroadcast_arrays(\n\u001b[0;32m   <a href='file:///c%3A/Users/jches/Documents/Programming/MSc%20Computing/intro2ml_cw2_12/.venv/lib/site-packages/matplotlib/axes/_axes.py?line=2342'>2343</a>\u001b[0m     \u001b[39m# Make args iterable too.\u001b[39;49;00m\n\u001b[0;32m   <a href='file:///c%3A/Users/jches/Documents/Programming/MSc%20Computing/intro2ml_cw2_12/.venv/lib/site-packages/matplotlib/axes/_axes.py?line=2343'>2344</a>\u001b[0m     np\u001b[39m.\u001b[39;49matleast_1d(x), height, width, y, linewidth, hatch)\n\u001b[0;32m   <a href='file:///c%3A/Users/jches/Documents/Programming/MSc%20Computing/intro2ml_cw2_12/.venv/lib/site-packages/matplotlib/axes/_axes.py?line=2345'>2346</a>\u001b[0m \u001b[39m# Now that units have been converted, set the tick locations.\u001b[39;00m\n\u001b[0;32m   <a href='file:///c%3A/Users/jches/Documents/Programming/MSc%20Computing/intro2ml_cw2_12/.venv/lib/site-packages/matplotlib/axes/_axes.py?line=2346'>2347</a>\u001b[0m \u001b[39mif\u001b[39;00m orientation \u001b[39m==\u001b[39m \u001b[39m'\u001b[39m\u001b[39mvertical\u001b[39m\u001b[39m'\u001b[39m:\n",
      "File \u001b[1;32m<__array_function__ internals>:180\u001b[0m, in \u001b[0;36mbroadcast_arrays\u001b[1;34m(*args, **kwargs)\u001b[0m\n",
      "File \u001b[1;32mc:\\Users\\jches\\Documents\\Programming\\MSc Computing\\intro2ml_cw2_12\\.venv\\lib\\site-packages\\numpy\\lib\\stride_tricks.py:539\u001b[0m, in \u001b[0;36mbroadcast_arrays\u001b[1;34m(subok, *args)\u001b[0m\n\u001b[0;32m    <a href='file:///c%3A/Users/jches/Documents/Programming/MSc%20Computing/intro2ml_cw2_12/.venv/lib/site-packages/numpy/lib/stride_tricks.py?line=531'>532</a>\u001b[0m \u001b[39m# nditer is not used here to avoid the limit of 32 arrays.\u001b[39;00m\n\u001b[0;32m    <a href='file:///c%3A/Users/jches/Documents/Programming/MSc%20Computing/intro2ml_cw2_12/.venv/lib/site-packages/numpy/lib/stride_tricks.py?line=532'>533</a>\u001b[0m \u001b[39m# Otherwise, something like the following one-liner would suffice:\u001b[39;00m\n\u001b[0;32m    <a href='file:///c%3A/Users/jches/Documents/Programming/MSc%20Computing/intro2ml_cw2_12/.venv/lib/site-packages/numpy/lib/stride_tricks.py?line=533'>534</a>\u001b[0m \u001b[39m# return np.nditer(args, flags=['multi_index', 'zerosize_ok'],\u001b[39;00m\n\u001b[0;32m    <a href='file:///c%3A/Users/jches/Documents/Programming/MSc%20Computing/intro2ml_cw2_12/.venv/lib/site-packages/numpy/lib/stride_tricks.py?line=534'>535</a>\u001b[0m \u001b[39m#                  order='C').itviews\u001b[39;00m\n\u001b[0;32m    <a href='file:///c%3A/Users/jches/Documents/Programming/MSc%20Computing/intro2ml_cw2_12/.venv/lib/site-packages/numpy/lib/stride_tricks.py?line=536'>537</a>\u001b[0m args \u001b[39m=\u001b[39m [np\u001b[39m.\u001b[39marray(_m, copy\u001b[39m=\u001b[39m\u001b[39mFalse\u001b[39;00m, subok\u001b[39m=\u001b[39msubok) \u001b[39mfor\u001b[39;00m _m \u001b[39min\u001b[39;00m args]\n\u001b[1;32m--> <a href='file:///c%3A/Users/jches/Documents/Programming/MSc%20Computing/intro2ml_cw2_12/.venv/lib/site-packages/numpy/lib/stride_tricks.py?line=538'>539</a>\u001b[0m shape \u001b[39m=\u001b[39m _broadcast_shape(\u001b[39m*\u001b[39;49margs)\n\u001b[0;32m    <a href='file:///c%3A/Users/jches/Documents/Programming/MSc%20Computing/intro2ml_cw2_12/.venv/lib/site-packages/numpy/lib/stride_tricks.py?line=540'>541</a>\u001b[0m \u001b[39mif\u001b[39;00m \u001b[39mall\u001b[39m(array\u001b[39m.\u001b[39mshape \u001b[39m==\u001b[39m shape \u001b[39mfor\u001b[39;00m array \u001b[39min\u001b[39;00m args):\n\u001b[0;32m    <a href='file:///c%3A/Users/jches/Documents/Programming/MSc%20Computing/intro2ml_cw2_12/.venv/lib/site-packages/numpy/lib/stride_tricks.py?line=541'>542</a>\u001b[0m     \u001b[39m# Common case where nothing needs to be broadcasted.\u001b[39;00m\n\u001b[0;32m    <a href='file:///c%3A/Users/jches/Documents/Programming/MSc%20Computing/intro2ml_cw2_12/.venv/lib/site-packages/numpy/lib/stride_tricks.py?line=542'>543</a>\u001b[0m     \u001b[39mreturn\u001b[39;00m args\n",
      "File \u001b[1;32mc:\\Users\\jches\\Documents\\Programming\\MSc Computing\\intro2ml_cw2_12\\.venv\\lib\\site-packages\\numpy\\lib\\stride_tricks.py:421\u001b[0m, in \u001b[0;36m_broadcast_shape\u001b[1;34m(*args)\u001b[0m\n\u001b[0;32m    <a href='file:///c%3A/Users/jches/Documents/Programming/MSc%20Computing/intro2ml_cw2_12/.venv/lib/site-packages/numpy/lib/stride_tricks.py?line=415'>416</a>\u001b[0m \u001b[39m\"\"\"Returns the shape of the arrays that would result from broadcasting the\u001b[39;00m\n\u001b[0;32m    <a href='file:///c%3A/Users/jches/Documents/Programming/MSc%20Computing/intro2ml_cw2_12/.venv/lib/site-packages/numpy/lib/stride_tricks.py?line=416'>417</a>\u001b[0m \u001b[39msupplied arrays against each other.\u001b[39;00m\n\u001b[0;32m    <a href='file:///c%3A/Users/jches/Documents/Programming/MSc%20Computing/intro2ml_cw2_12/.venv/lib/site-packages/numpy/lib/stride_tricks.py?line=417'>418</a>\u001b[0m \u001b[39m\"\"\"\u001b[39;00m\n\u001b[0;32m    <a href='file:///c%3A/Users/jches/Documents/Programming/MSc%20Computing/intro2ml_cw2_12/.venv/lib/site-packages/numpy/lib/stride_tricks.py?line=418'>419</a>\u001b[0m \u001b[39m# use the old-iterator because np.nditer does not handle size 0 arrays\u001b[39;00m\n\u001b[0;32m    <a href='file:///c%3A/Users/jches/Documents/Programming/MSc%20Computing/intro2ml_cw2_12/.venv/lib/site-packages/numpy/lib/stride_tricks.py?line=419'>420</a>\u001b[0m \u001b[39m# consistently\u001b[39;00m\n\u001b[1;32m--> <a href='file:///c%3A/Users/jches/Documents/Programming/MSc%20Computing/intro2ml_cw2_12/.venv/lib/site-packages/numpy/lib/stride_tricks.py?line=420'>421</a>\u001b[0m b \u001b[39m=\u001b[39m np\u001b[39m.\u001b[39;49mbroadcast(\u001b[39m*\u001b[39;49margs[:\u001b[39m32\u001b[39;49m])\n\u001b[0;32m    <a href='file:///c%3A/Users/jches/Documents/Programming/MSc%20Computing/intro2ml_cw2_12/.venv/lib/site-packages/numpy/lib/stride_tricks.py?line=421'>422</a>\u001b[0m \u001b[39m# unfortunately, it cannot handle 32 or more arguments directly\u001b[39;00m\n\u001b[0;32m    <a href='file:///c%3A/Users/jches/Documents/Programming/MSc%20Computing/intro2ml_cw2_12/.venv/lib/site-packages/numpy/lib/stride_tricks.py?line=422'>423</a>\u001b[0m \u001b[39mfor\u001b[39;00m pos \u001b[39min\u001b[39;00m \u001b[39mrange\u001b[39m(\u001b[39m32\u001b[39m, \u001b[39mlen\u001b[39m(args), \u001b[39m31\u001b[39m):\n\u001b[0;32m    <a href='file:///c%3A/Users/jches/Documents/Programming/MSc%20Computing/intro2ml_cw2_12/.venv/lib/site-packages/numpy/lib/stride_tricks.py?line=423'>424</a>\u001b[0m     \u001b[39m# ironically, np.broadcast does not properly handle np.broadcast\u001b[39;00m\n\u001b[0;32m    <a href='file:///c%3A/Users/jches/Documents/Programming/MSc%20Computing/intro2ml_cw2_12/.venv/lib/site-packages/numpy/lib/stride_tricks.py?line=424'>425</a>\u001b[0m     \u001b[39m# objects (it treats them as scalars)\u001b[39;00m\n\u001b[0;32m    <a href='file:///c%3A/Users/jches/Documents/Programming/MSc%20Computing/intro2ml_cw2_12/.venv/lib/site-packages/numpy/lib/stride_tricks.py?line=425'>426</a>\u001b[0m     \u001b[39m# use broadcasting to avoid allocating the full array\u001b[39;00m\n",
      "\u001b[1;31mValueError\u001b[0m: shape mismatch: objects cannot be broadcast to a single shape.  Mismatch is between arg 0 with shape (26,) and arg 1 with shape (27,)."
     ]
    },
    {
     "data": {
      "image/png": "[encoded data removed]",
      "text/plain": [
       "<Figure size 432x288 with 1 Axes>"
      ]
     },
     "metadata": {
      "needs_background": "light"
     },
     "output_type": "display_data"
    }
   ],
   "source": [
    "import matplotlib.pyplot as plt\n",
    "fig = plt.figure()\n",
    "ax = fig.add_axes([0,0,1,1])\n",
    "ax.bar(range(1,28), std_test_score)\n",
    "plt.show()"
   ]
  }
 ],
 "metadata": {
  "interpreter": {
   "hash": "5e16750f92028e646f1e7448433148d6a1d2ce12fe0e106d41c7822fbe6515c4"
  },
  "kernelspec": {
   "display_name": "Python 3.8.10 ('.venv': venv)",
   "language": "python",
   "name": "python3"
  },
  "language_info": {
   "codemirror_mode": {
    "name": "ipython",
    "version": 3
   },
   "file_extension": ".py",
   "mimetype": "text/x-python",
   "name": "python",
   "nbconvert_exporter": "python",
   "pygments_lexer": "ipython3",
   "version": "3.8.10"
  },
  "orig_nbformat": 4
 },
 "nbformat": 4,
 "nbformat_minor": 2
}
